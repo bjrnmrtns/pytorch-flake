{
 "cells": [
  {
   "cell_type": "code",
   "execution_count": 12,
   "id": "0b68478c",
   "metadata": {},
   "outputs": [],
   "source": [
    "import math\n",
    "import numpy as np\n",
    "import matplotlib.pyplot as plt\n",
    "%matplotlib inline\n"
   ]
  },
  {
   "cell_type": "code",
   "execution_count": 13,
   "id": "7ee68177",
   "metadata": {},
   "outputs": [],
   "source": []
  },
  {
   "cell_type": "code",
   "execution_count": 14,
   "id": "dfa13e47",
   "metadata": {},
   "outputs": [
    {
     "data": {
      "text/plain": [
       "12.0"
      ]
     },
     "execution_count": 14,
     "metadata": {},
     "output_type": "execute_result"
    }
   ],
   "source": []
  },
  {
   "cell_type": "code",
   "execution_count": 15,
   "id": "1a94224f",
   "metadata": {},
   "outputs": [],
   "source": []
  },
  {
   "cell_type": "code",
   "execution_count": 16,
   "id": "2d6325fd",
   "metadata": {},
   "outputs": [],
   "source": [
    "ys = f(xs)"
   ]
  },
  {
   "cell_type": "code",
   "execution_count": 17,
   "id": "b1cd2926",
   "metadata": {},
   "outputs": [
    {
     "data": {
      "text/plain": [
       "[<matplotlib.lines.Line2D at 0x11799b400>]"
      ]
     },
     "execution_count": 17,
     "metadata": {},
     "output_type": "execute_result"
    },
    {
     "data": {
      "image/png": "[encoded data removed]",
      "text/plain": [
       "<Figure size 640x480 with 1 Axes>"
      ]
     },
     "metadata": {},
     "output_type": "display_data"
    }
   ],
   "source": [
    "plt.plot(xs, ys)"
   ]
  },
  {
   "cell_type": "code",
   "execution_count": 18,
   "id": "3909db6a",
   "metadata": {},
   "outputs": [
    {
     "data": {
      "text/plain": [
       "-18.000000068241206"
      ]
     },
     "execution_count": 18,
     "metadata": {},
     "output_type": "execute_result"
    }
   ],
   "source": [
    "h = 0.00000001\n",
    "x = -3.0\n",
    "(f(x + h) - f(x)) / h"
   ]
  },
  {
   "cell_type": "code",
   "execution_count": 114,
   "id": "d54bcd03",
   "metadata": {},
   "outputs": [
    {
     "data": {
      "text/plain": [
       "Value(data=-8.0)"
      ]
     },
     "execution_count": 114,
     "metadata": {},
     "output_type": "execute_result"
    }
   ],
   "source": [
    "class Value:\n",
    "    def __init__(self, data, _children=(), _op='', label=''):\n",
    "        self.data = data\n",
    "        self.grad = 0.0\n",
    "        self._backward = lamda: None\n",
    "        self._prev = set(_children)\n",
    "        self._op = _op\n",
    "        self.label = label\n",
    "    \n",
    "    def __repr__(self):\n",
    "        return f\"Value(data={self.data})\"\n",
    "    \n",
    "    def __add__(self, other):\n",
    "        out = Value(self.data + other.data, (self, other), '+')\n",
    "        def _backward():\n",
    "            self.grad = 1.0 * out.grad\n",
    "            other.grad = 1.0 * out.grad\n",
    "        out._backward = _backward\n",
    "        return out;\n",
    "    \n",
    "    def __mul__(self, other):\n",
    "        out = Value(self.data * other.data, (self, other), '*')\n",
    "        return out\n",
    "    \n",
    "a = Value(2.0, label='a')\n",
    "b = Value(-3.0, label='b')\n",
    "c = Value(10, label='c')\n",
    "e = a * b; e.label = 'e'\n",
    "d = e + c\n",
    "d.label = 'd'\n",
    "f = Value(-2.0, label='f')\n",
    "L = d * f\n",
    "L.label = 'L'\n",
    "L"
   ]
  },
  {
   "cell_type": "code",
   "execution_count": 20,
   "id": "11678ecd",
   "metadata": {},
   "outputs": [
    {
     "data": {
      "text/plain": [
       "{Value(data=-6.0), Value(data=10)}"
      ]
     },
     "execution_count": 20,
     "metadata": {},
     "output_type": "execute_result"
    }
   ],
   "source": [
    "d._prev"
   ]
  },
  {
   "cell_type": "code",
   "execution_count": 36,
   "id": "7c7840b8",
   "metadata": {},
   "outputs": [],
   "source": [
    "from graphviz import Digraph\n",
    "\n",
    "def trace(root):\n",
    "    nodes, edges = set(), set()\n",
    "    def build(v):\n",
    "        if v not in nodes:\n",
    "            nodes.add(v)\n",
    "            for child in v._prev:\n",
    "                edges.add((child, v))\n",
    "                build(child)\n",
    "    build(root)\n",
    "    return nodes, edges\n",
    "\n",
    "def draw_dot(root, format='svg', rankdir='LR'):\n",
    "    \"\"\"\n",
    "    format: png | svg | ...\n",
    "    rankdir: TB (top to bottom graph) | LR (left to right)\n",
    "    \"\"\"\n",
    "    assert rankdir in ['LR', 'TB']\n",
    "    nodes, edges = trace(root)\n",
    "    dot = Digraph(format=format, graph_attr={'rankdir': rankdir}) #, node_attr={'rankdir': 'TB'})\n",
    "    \n",
    "    for n in nodes:\n",
    "        dot.node(name=str(id(n)), label = \"{ %s | data %.4f | grad %.4f }\" % (n.label, n.data, n.grad), shape='record')\n",
    "        if n._op:\n",
    "            dot.node(name=str(id(n)) + n._op, label=n._op)\n",
    "            dot.edge(str(id(n)) + n._op, str(id(n)))\n",
    "    \n",
    "    for n1, n2 in edges:\n",
    "        dot.edge(str(id(n1)), str(id(n2)) + n2._op)\n",
    "    \n",
    "    return dot"
   ]
  },
  {
   "cell_type": "code",
   "execution_count": 113,
   "id": "1c5418f2",
   "metadata": {},
   "outputs": [],
   "source": [
    "L.grad = 1.0"
   ]
  },
  {
   "cell_type": "code",
   "execution_count": 115,
   "id": "ea3cb727",
   "metadata": {},
   "outputs": [],
   "source": [
    "f.grad = 4.0\n",
    "d.grad = -2.0\n",
    "c.grad = -2.0\n",
    "e.grad = -2.0\n",
    "a.grad = -6.0\n",
    "b.grad = -4.0"
   ]
  },
  {
   "cell_type": "code",
   "execution_count": 172,
   "id": "53bc5efb",
   "metadata": {},
   "outputs": [
    {
     "data": {
      "text/plain": [
       "4.58012800000003"
      ]
     },
     "execution_count": 172,
     "metadata": {},
     "output_type": "execute_result"
    }
   ],
   "source": [
    "stepsize = 0.01\n",
    "a.data += stepsize * a.grad\n",
    "b.data += stepsize * b.grad\n",
    "c.data += stepsize * c.grad\n",
    "f.data += stepsize * f.grad\n",
    "\n",
    "e = a * b\n",
    "d = e + c\n",
    "L = d * f\n",
    "\n",
    "L.data"
   ]
  },
  {
   "cell_type": "code",
   "execution_count": 82,
   "id": "5ba90e74",
   "metadata": {},
   "outputs": [
    {
     "name": "stdout",
     "output_type": "stream",
     "text": [
      "-1.9999999999953388\n"
     ]
    }
   ],
   "source": [
    "def lol():\n",
    "    \n",
    "    h = 0.0001\n",
    "    \n",
    "    a = Value(2.0, label='a')\n",
    "    b = Value(-3.0, label='b')\n",
    "    c = Value(10, label='c')\n",
    "    e = a * b; e.label = 'e'\n",
    "    d = e + c\n",
    "    d.label = 'd'\n",
    "    f = Value(-2.0, label='f')\n",
    "    L = d * f\n",
    "    L.label = 'L'\n",
    "    L1 = L.data\n",
    "    \n",
    "    a = Value(2.0, label='a')\n",
    "    b = Value(-3.0, label='b')\n",
    "    c = Value(10, label='c')\n",
    "    e = a * b; e.label = 'e'\n",
    "    e.data += h\n",
    "    d = e + c\n",
    "    d.label = 'd'\n",
    "    f = Value(-2.0, label='f')\n",
    "    L = d * f\n",
    "    L.label = 'L'\n",
    "    L2 = L.data  \n",
    "    print((L2 - L1) / h)\n",
    "    \n",
    "lol()"
   ]
  },
  {
   "cell_type": "code",
   "execution_count": 173,
   "id": "b3ac5d92",
   "metadata": {},
   "outputs": [
    {
     "data": {
      "image/svg+xml": [
       "<?xml version=\"1.0\" encoding=\"UTF-8\" standalone=\"no\"?>\n",
       "<!DOCTYPE svg PUBLIC \"-//W3C//DTD SVG 1.1//EN\"\n",
       " \"http://www.w3.org/Graphics/SVG/1.1/DTD/svg11.dtd\">\n",
       "<!-- Generated by graphviz version 8.0.5 (0)\n",
       " -->\n",
       "<!-- Pages: 1 -->\n",
       "<svg width=\"1135pt\" height=\"128pt\"\n",
       " viewBox=\"0.00 0.00 1134.50 128.00\" xmlns=\"http://www.w3.org/2000/svg\" xmlns:xlink=\"http://www.w3.org/1999/xlink\">\n",
       "<g id=\"graph0\" class=\"graph\" transform=\"scale(1 1) rotate(0) translate(4 124)\">\n",
       "<polygon fill=\"white\" stroke=\"none\" points=\"-4,4 -4,-124 1130.5,-124 1130.5,4 -4,4\"/>\n",
       "<!-- 4693203968 -->\n",
       "<g id=\"node1\" class=\"node\">\n",
       "<title>4693203968</title>\n",
       "<polygon fill=\"none\" stroke=\"black\" points=\"318.75,-83.5 318.75,-119.5 506.25,-119.5 506.25,-83.5 318.75,-83.5\"/>\n",
       "<text text-anchor=\"middle\" x=\"329.75\" y=\"-96.7\" font-family=\"Times,serif\" font-size=\"14.00\">c</text>\n",
       "<polyline fill=\"none\" stroke=\"black\" points=\"340.75,-84 340.75,-119.5\"/>\n",
       "<text text-anchor=\"middle\" x=\"380.62\" y=\"-96.7\" font-family=\"Times,serif\" font-size=\"14.00\">data 8.8600</text>\n",
       "<polyline fill=\"none\" stroke=\"black\" points=\"420.5,-84 420.5,-119.5\"/>\n",
       "<text text-anchor=\"middle\" x=\"463.38\" y=\"-96.7\" font-family=\"Times,serif\" font-size=\"14.00\">grad &#45;2.0000</text>\n",
       "</g>\n",
       "<!-- 4692793792+ -->\n",
       "<g id=\"node10\" class=\"node\">\n",
       "<title>4692793792+</title>\n",
       "<ellipse fill=\"none\" stroke=\"black\" cx=\"569.25\" cy=\"-73.5\" rx=\"27\" ry=\"18\"/>\n",
       "<text text-anchor=\"middle\" x=\"569.25\" y=\"-68.45\" font-family=\"Times,serif\" font-size=\"14.00\">+</text>\n",
       "</g>\n",
       "<!-- 4693203968&#45;&gt;4692793792+ -->\n",
       "<g id=\"edge6\" class=\"edge\">\n",
       "<title>4693203968&#45;&gt;4692793792+</title>\n",
       "<path fill=\"none\" stroke=\"black\" d=\"M506.2,-84.73C515.3,-83.08 524.1,-81.49 532.08,-80.04\"/>\n",
       "<polygon fill=\"black\" stroke=\"black\" points=\"532.54,-83.34 541.76,-78.11 531.3,-76.45 532.54,-83.34\"/>\n",
       "</g>\n",
       "<!-- 4692793888 -->\n",
       "<g id=\"node2\" class=\"node\">\n",
       "<title>4692793888</title>\n",
       "<polygon fill=\"none\" stroke=\"black\" points=\"945.75,-27.5 945.75,-63.5 1126.5,-63.5 1126.5,-27.5 945.75,-27.5\"/>\n",
       "<text text-anchor=\"middle\" x=\"955.62\" y=\"-40.7\" font-family=\"Times,serif\" font-size=\"14.00\"> </text>\n",
       "<polyline fill=\"none\" stroke=\"black\" points=\"965.5,-28 965.5,-63.5\"/>\n",
       "<text text-anchor=\"middle\" x=\"1005.38\" y=\"-40.7\" font-family=\"Times,serif\" font-size=\"14.00\">data 4.5801</text>\n",
       "<polyline fill=\"none\" stroke=\"black\" points=\"1045.25,-28 1045.25,-63.5\"/>\n",
       "<text text-anchor=\"middle\" x=\"1085.88\" y=\"-40.7\" font-family=\"Times,serif\" font-size=\"14.00\">grad 0.0000</text>\n",
       "</g>\n",
       "<!-- 4692793888* -->\n",
       "<g id=\"node3\" class=\"node\">\n",
       "<title>4692793888*</title>\n",
       "<ellipse fill=\"none\" stroke=\"black\" cx=\"882.75\" cy=\"-45.5\" rx=\"27\" ry=\"18\"/>\n",
       "<text text-anchor=\"middle\" x=\"882.75\" y=\"-40.45\" font-family=\"Times,serif\" font-size=\"14.00\">*</text>\n",
       "</g>\n",
       "<!-- 4692793888*&#45;&gt;4692793888 -->\n",
       "<g id=\"edge1\" class=\"edge\">\n",
       "<title>4692793888*&#45;&gt;4692793888</title>\n",
       "<path fill=\"none\" stroke=\"black\" d=\"M910.12,-45.5C917.55,-45.5 926.1,-45.5 935.17,-45.5\"/>\n",
       "<polygon fill=\"black\" stroke=\"black\" points=\"935.02,-49 945.02,-45.5 935.02,-42 935.02,-49\"/>\n",
       "</g>\n",
       "<!-- 4691896944 -->\n",
       "<g id=\"node4\" class=\"node\">\n",
       "<title>4691896944</title>\n",
       "<polygon fill=\"none\" stroke=\"black\" points=\"635.25,-0.5 635.25,-36.5 816.75,-36.5 816.75,-0.5 635.25,-0.5\"/>\n",
       "<text text-anchor=\"middle\" x=\"645.5\" y=\"-13.7\" font-family=\"Times,serif\" font-size=\"14.00\">f</text>\n",
       "<polyline fill=\"none\" stroke=\"black\" points=\"655.75,-1 655.75,-36.5\"/>\n",
       "<text text-anchor=\"middle\" x=\"695.62\" y=\"-13.7\" font-family=\"Times,serif\" font-size=\"14.00\">data 0.2800</text>\n",
       "<polyline fill=\"none\" stroke=\"black\" points=\"735.5,-1 735.5,-36.5\"/>\n",
       "<text text-anchor=\"middle\" x=\"776.12\" y=\"-13.7\" font-family=\"Times,serif\" font-size=\"14.00\">grad 4.0000</text>\n",
       "</g>\n",
       "<!-- 4691896944&#45;&gt;4692793888* -->\n",
       "<g id=\"edge9\" class=\"edge\">\n",
       "<title>4691896944&#45;&gt;4692793888*</title>\n",
       "<path fill=\"none\" stroke=\"black\" d=\"M816.57,-34.13C826.82,-35.92 836.77,-37.65 845.69,-39.21\"/>\n",
       "<polygon fill=\"black\" stroke=\"black\" points=\"844.92,-42.8 855.37,-41.07 846.12,-35.91 844.92,-42.8\"/>\n",
       "</g>\n",
       "<!-- 4693199024 -->\n",
       "<g id=\"node5\" class=\"node\">\n",
       "<title>4693199024</title>\n",
       "<polygon fill=\"none\" stroke=\"black\" points=\"0,-56.5 0,-92.5 192.75,-92.5 192.75,-56.5 0,-56.5\"/>\n",
       "<text text-anchor=\"middle\" x=\"11.38\" y=\"-69.7\" font-family=\"Times,serif\" font-size=\"14.00\">b</text>\n",
       "<polyline fill=\"none\" stroke=\"black\" points=\"22.75,-57 22.75,-92.5\"/>\n",
       "<text text-anchor=\"middle\" x=\"64.88\" y=\"-69.7\" font-family=\"Times,serif\" font-size=\"14.00\">data &#45;5.2800</text>\n",
       "<polyline fill=\"none\" stroke=\"black\" points=\"107,-57 107,-92.5\"/>\n",
       "<text text-anchor=\"middle\" x=\"149.88\" y=\"-69.7\" font-family=\"Times,serif\" font-size=\"14.00\">grad &#45;4.0000</text>\n",
       "</g>\n",
       "<!-- 4692787984* -->\n",
       "<g id=\"node8\" class=\"node\">\n",
       "<title>4692787984*</title>\n",
       "<ellipse fill=\"none\" stroke=\"black\" cx=\"255.75\" cy=\"-46.5\" rx=\"27\" ry=\"18\"/>\n",
       "<text text-anchor=\"middle\" x=\"255.75\" y=\"-41.45\" font-family=\"Times,serif\" font-size=\"14.00\">*</text>\n",
       "</g>\n",
       "<!-- 4693199024&#45;&gt;4692787984* -->\n",
       "<g id=\"edge5\" class=\"edge\">\n",
       "<title>4693199024&#45;&gt;4692787984*</title>\n",
       "<path fill=\"none\" stroke=\"black\" d=\"M192.55,-57.57C201.7,-55.94 210.54,-54.37 218.55,-52.94\"/>\n",
       "<polygon fill=\"black\" stroke=\"black\" points=\"219.01,-56.24 228.25,-51.04 217.79,-49.34 219.01,-56.24\"/>\n",
       "</g>\n",
       "<!-- 4693198016 -->\n",
       "<g id=\"node6\" class=\"node\">\n",
       "<title>4693198016</title>\n",
       "<polygon fill=\"none\" stroke=\"black\" points=\"0.38,-1.5 0.38,-37.5 192.38,-37.5 192.38,-1.5 0.38,-1.5\"/>\n",
       "<text text-anchor=\"middle\" x=\"11.38\" y=\"-14.7\" font-family=\"Times,serif\" font-size=\"14.00\">a</text>\n",
       "<polyline fill=\"none\" stroke=\"black\" points=\"22.38,-2 22.38,-37.5\"/>\n",
       "<text text-anchor=\"middle\" x=\"64.5\" y=\"-14.7\" font-family=\"Times,serif\" font-size=\"14.00\">data &#45;1.4200</text>\n",
       "<polyline fill=\"none\" stroke=\"black\" points=\"106.62,-2 106.62,-37.5\"/>\n",
       "<text text-anchor=\"middle\" x=\"149.5\" y=\"-14.7\" font-family=\"Times,serif\" font-size=\"14.00\">grad &#45;6.0000</text>\n",
       "</g>\n",
       "<!-- 4693198016&#45;&gt;4692787984* -->\n",
       "<g id=\"edge8\" class=\"edge\">\n",
       "<title>4693198016&#45;&gt;4692787984*</title>\n",
       "<path fill=\"none\" stroke=\"black\" d=\"M192.1,-35.75C201.5,-37.36 210.58,-38.92 218.77,-40.33\"/>\n",
       "<polygon fill=\"black\" stroke=\"black\" points=\"217.89,-43.9 228.34,-42.14 219.08,-37 217.89,-43.9\"/>\n",
       "</g>\n",
       "<!-- 4692787984 -->\n",
       "<g id=\"node7\" class=\"node\">\n",
       "<title>4692787984</title>\n",
       "<polygon fill=\"none\" stroke=\"black\" points=\"322.12,-28.5 322.12,-64.5 502.88,-64.5 502.88,-28.5 322.12,-28.5\"/>\n",
       "<text text-anchor=\"middle\" x=\"332\" y=\"-41.7\" font-family=\"Times,serif\" font-size=\"14.00\"> </text>\n",
       "<polyline fill=\"none\" stroke=\"black\" points=\"341.88,-29 341.88,-64.5\"/>\n",
       "<text text-anchor=\"middle\" x=\"381.75\" y=\"-41.7\" font-family=\"Times,serif\" font-size=\"14.00\">data 7.4976</text>\n",
       "<polyline fill=\"none\" stroke=\"black\" points=\"421.62,-29 421.62,-64.5\"/>\n",
       "<text text-anchor=\"middle\" x=\"462.25\" y=\"-41.7\" font-family=\"Times,serif\" font-size=\"14.00\">grad 0.0000</text>\n",
       "</g>\n",
       "<!-- 4692787984&#45;&gt;4692793792+ -->\n",
       "<g id=\"edge4\" class=\"edge\">\n",
       "<title>4692787984&#45;&gt;4692793792+</title>\n",
       "<path fill=\"none\" stroke=\"black\" d=\"M502.62,-62.05C512.92,-63.85 522.93,-65.59 531.91,-67.16\"/>\n",
       "<polygon fill=\"black\" stroke=\"black\" points=\"531.22,-70.77 541.67,-69.04 532.42,-63.87 531.22,-70.77\"/>\n",
       "</g>\n",
       "<!-- 4692787984*&#45;&gt;4692787984 -->\n",
       "<g id=\"edge2\" class=\"edge\">\n",
       "<title>4692787984*&#45;&gt;4692787984</title>\n",
       "<path fill=\"none\" stroke=\"black\" d=\"M283,-46.5C291.32,-46.5 301.07,-46.5 311.41,-46.5\"/>\n",
       "<polygon fill=\"black\" stroke=\"black\" points=\"311.37,-50 321.37,-46.5 311.37,-43 311.37,-50\"/>\n",
       "</g>\n",
       "<!-- 4692793792 -->\n",
       "<g id=\"node9\" class=\"node\">\n",
       "<title>4692793792</title>\n",
       "<polygon fill=\"none\" stroke=\"black\" points=\"632.25,-55.5 632.25,-91.5 819.75,-91.5 819.75,-55.5 632.25,-55.5\"/>\n",
       "<text text-anchor=\"middle\" x=\"642.12\" y=\"-68.7\" font-family=\"Times,serif\" font-size=\"14.00\"> </text>\n",
       "<polyline fill=\"none\" stroke=\"black\" points=\"652,-56 652,-91.5\"/>\n",
       "<text text-anchor=\"middle\" x=\"695.25\" y=\"-68.7\" font-family=\"Times,serif\" font-size=\"14.00\">data 16.3576</text>\n",
       "<polyline fill=\"none\" stroke=\"black\" points=\"738.5,-56 738.5,-91.5\"/>\n",
       "<text text-anchor=\"middle\" x=\"779.12\" y=\"-68.7\" font-family=\"Times,serif\" font-size=\"14.00\">grad 0.0000</text>\n",
       "</g>\n",
       "<!-- 4692793792&#45;&gt;4692793888* -->\n",
       "<g id=\"edge7\" class=\"edge\">\n",
       "<title>4692793792&#45;&gt;4692793888*</title>\n",
       "<path fill=\"none\" stroke=\"black\" d=\"M819.7,-56.73C828.8,-55.08 837.6,-53.49 845.58,-52.04\"/>\n",
       "<polygon fill=\"black\" stroke=\"black\" points=\"846.04,-55.34 855.26,-50.11 844.8,-48.45 846.04,-55.34\"/>\n",
       "</g>\n",
       "<!-- 4692793792+&#45;&gt;4692793792 -->\n",
       "<g id=\"edge3\" class=\"edge\">\n",
       "<title>4692793792+&#45;&gt;4692793792</title>\n",
       "<path fill=\"none\" stroke=\"black\" d=\"M596.5,-73.5C603.94,-73.5 612.52,-73.5 621.64,-73.5\"/>\n",
       "<polygon fill=\"black\" stroke=\"black\" points=\"621.57,-77 631.57,-73.5 621.57,-70 621.57,-77\"/>\n",
       "</g>\n",
       "</g>\n",
       "</svg>\n"
      ],
      "text/plain": [
       "<graphviz.graphs.Digraph at 0x117a8b160>"
      ]
     },
     "execution_count": 173,
     "metadata": {},
     "output_type": "execute_result"
    }
   ],
   "source": [
    "draw_dot(L)"
   ]
  },
  {
   "cell_type": "code",
   "execution_count": null,
   "id": "729c7833",
   "metadata": {},
   "outputs": [],
   "source": []
  }
 ],
 "metadata": {
  "kernelspec": {
   "display_name": "Python 3",
   "language": "python",
   "name": "python3"
  },
  "language_info": {
   "codemirror_mode": {
    "name": "ipython",
    "version": 3
   },
   "file_extension": ".py",
   "mimetype": "text/x-python",
   "name": "python",
   "nbconvert_exporter": "python",
   "pygments_lexer": "ipython3",
   "version": "3.10.12"
  }
 },
 "nbformat": 4,
 "nbformat_minor": 5
}
